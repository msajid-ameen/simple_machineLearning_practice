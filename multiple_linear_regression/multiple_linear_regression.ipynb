{
 "cells": [
  {
   "cell_type": "markdown",
   "id": "6cab68ae",
   "metadata": {},
   "source": [
    "# Multiple Linear Regression"
   ]
  },
  {
   "cell_type": "markdown",
   "id": "c072205d",
   "metadata": {},
   "source": [
    "### Step-1 Import Libraries"
   ]
  },
  {
   "cell_type": "code",
   "execution_count": 2,
   "id": "8a583a60",
   "metadata": {},
   "outputs": [],
   "source": [
    "import numpy as np\n",
    "import pandas as pd\n",
    "import matplotlib.pyplot as plt\n",
    "from sklearn.linear_model import LinearRegression \n",
    "from sklearn.model_selection import train_test_split"
   ]
  },
  {
   "cell_type": "markdown",
   "id": "d488c233",
   "metadata": {},
   "source": [
    "### Step-2 Import Data"
   ]
  },
  {
   "cell_type": "code",
   "execution_count": 3,
   "id": "58b23f19",
   "metadata": {},
   "outputs": [
    {
     "data": {
      "text/html": [
       "<div>\n",
       "<style scoped>\n",
       "    .dataframe tbody tr th:only-of-type {\n",
       "        vertical-align: middle;\n",
       "    }\n",
       "\n",
       "    .dataframe tbody tr th {\n",
       "        vertical-align: top;\n",
       "    }\n",
       "\n",
       "    .dataframe thead th {\n",
       "        text-align: right;\n",
       "    }\n",
       "</style>\n",
       "<table border=\"1\" class=\"dataframe\">\n",
       "  <thead>\n",
       "    <tr style=\"text-align: right;\">\n",
       "      <th></th>\n",
       "      <th>number_courses</th>\n",
       "      <th>time_study</th>\n",
       "      <th>Marks</th>\n",
       "    </tr>\n",
       "  </thead>\n",
       "  <tbody>\n",
       "    <tr>\n",
       "      <th>0</th>\n",
       "      <td>3</td>\n",
       "      <td>4.508</td>\n",
       "      <td>19.202</td>\n",
       "    </tr>\n",
       "    <tr>\n",
       "      <th>1</th>\n",
       "      <td>4</td>\n",
       "      <td>0.096</td>\n",
       "      <td>7.734</td>\n",
       "    </tr>\n",
       "    <tr>\n",
       "      <th>2</th>\n",
       "      <td>4</td>\n",
       "      <td>3.133</td>\n",
       "      <td>13.811</td>\n",
       "    </tr>\n",
       "    <tr>\n",
       "      <th>3</th>\n",
       "      <td>6</td>\n",
       "      <td>7.909</td>\n",
       "      <td>53.018</td>\n",
       "    </tr>\n",
       "    <tr>\n",
       "      <th>4</th>\n",
       "      <td>8</td>\n",
       "      <td>7.811</td>\n",
       "      <td>55.299</td>\n",
       "    </tr>\n",
       "  </tbody>\n",
       "</table>\n",
       "</div>"
      ],
      "text/plain": [
       "   number_courses  time_study   Marks\n",
       "0               3       4.508  19.202\n",
       "1               4       0.096   7.734\n",
       "2               4       3.133  13.811\n",
       "3               6       7.909  53.018\n",
       "4               8       7.811  55.299"
      ]
     },
     "execution_count": 3,
     "metadata": {},
     "output_type": "execute_result"
    }
   ],
   "source": [
    "data = pd.read_csv(\"dataset/students_data.csv\")\n",
    "data.head()"
   ]
  },
  {
   "cell_type": "markdown",
   "id": "d5d6dd41",
   "metadata": {},
   "source": [
    "### Step-3 Splitting Dataset into Training and Testing Data\n"
   ]
  },
  {
   "cell_type": "code",
   "execution_count": 4,
   "id": "fd8fac3f",
   "metadata": {},
   "outputs": [],
   "source": [
    "x = data[[\"number_courses\", \"time_study\"]]\n",
    "y = data[\"Marks\"]"
   ]
  },
  {
   "cell_type": "code",
   "execution_count": 5,
   "id": "85313f97",
   "metadata": {},
   "outputs": [],
   "source": [
    "X_train, X_test, y_train, y_test = train_test_split(x, y, test_size=0.2, random_state=0)"
   ]
  },
  {
   "cell_type": "markdown",
   "id": "63259ccd",
   "metadata": {},
   "source": [
    "### Step-4 Create and Fit Model"
   ]
  },
  {
   "cell_type": "code",
   "execution_count": 6,
   "id": "ff5befe3",
   "metadata": {},
   "outputs": [
    {
     "data": {
      "text/plain": [
       "LinearRegression()"
      ]
     },
     "execution_count": 6,
     "metadata": {},
     "output_type": "execute_result"
    }
   ],
   "source": [
    "model = LinearRegression()\n",
    "model = model.fit(X_train, y_train)\n",
    "model"
   ]
  },
  {
   "cell_type": "code",
   "execution_count": 7,
   "id": "4211abb4",
   "metadata": {},
   "outputs": [
    {
     "data": {
      "text/plain": [
       "array([1.81180449, 5.39453433])"
      ]
     },
     "execution_count": 7,
     "metadata": {},
     "output_type": "execute_result"
    }
   ],
   "source": [
    "model.coef_"
   ]
  },
  {
   "cell_type": "code",
   "execution_count": 8,
   "id": "b3e4356e",
   "metadata": {},
   "outputs": [
    {
     "data": {
      "text/plain": [
       "-6.887034877371754"
      ]
     },
     "execution_count": 8,
     "metadata": {},
     "output_type": "execute_result"
    }
   ],
   "source": [
    "model.intercept_"
   ]
  },
  {
   "cell_type": "markdown",
   "id": "0778c82b",
   "metadata": {},
   "source": [
    "### Step-5 Plotting"
   ]
  },
  {
   "cell_type": "code",
   "execution_count": 9,
   "id": "8d0b83e8",
   "metadata": {},
   "outputs": [
    {
     "data": {
      "image/png": "[encoded data removed]",
      "text/plain": [
       "<Figure size 432x288 with 1 Axes>"
      ]
     },
     "metadata": {
      "needs_background": "light"
     },
     "output_type": "display_data"
    }
   ],
   "source": [
    "plt.scatter(X_train[\"number_courses\"], y_train, color = \"red\")\n",
    "plt.scatter(X_train[\"time_study\"], y_train)\n",
    "#plt.plot(X_train, model.predict(X_train), color='green')\n",
    "plt.xlabel([[\"number_courses\", \"time_study\"]])\n",
    "plt.ylabel(\"Marks\")\n",
    "plt.title(\"Train Plot\")\n",
    "plt.show()"
   ]
  },
  {
   "cell_type": "code",
   "execution_count": 10,
   "id": "cb67f1a4",
   "metadata": {},
   "outputs": [
    {
     "data": {
      "image/png": "[encoded data removed]",
      "text/plain": [
       "<Figure size 432x288 with 1 Axes>"
      ]
     },
     "metadata": {
      "needs_background": "light"
     },
     "output_type": "display_data"
    }
   ],
   "source": [
    "plt.scatter(X_test[\"number_courses\"], y_test, color = \"red\")\n",
    "plt.scatter(X_test[\"time_study\"], y_test)\n",
    "#plt.plot(X_train, model.predict(X_train), color='green')\n",
    "plt.xlabel([[\"number_courses\", \"time_study\"]])\n",
    "plt.ylabel(\"Marks\")\n",
    "plt.title(\"Test Plot\")\n",
    "plt.show()"
   ]
  },
  {
   "cell_type": "markdown",
   "id": "89a39d0d",
   "metadata": {},
   "source": [
    "### Step-6 Testing or Evaluating Model"
   ]
  },
  {
   "cell_type": "code",
   "execution_count": 11,
   "id": "ce5f8ae9",
   "metadata": {},
   "outputs": [
    {
     "name": "stdout",
     "output_type": "stream",
     "text": [
      "Training Data Score =  0.9403650041455023\n",
      "Testing Data Score =  0.9379348542894723\n"
     ]
    }
   ],
   "source": [
    "print(\"Training Data Score = \", model.score(X_train, y_train))\n",
    "print(\"Testing Data Score = \", model.score(X_test, y_test))"
   ]
  },
  {
   "cell_type": "markdown",
   "id": "8fa3c37a",
   "metadata": {},
   "source": [
    "### Step-7 Prediction of unknown values"
   ]
  },
  {
   "cell_type": "code",
   "execution_count": 12,
   "id": "e0279b5d",
   "metadata": {},
   "outputs": [
    {
     "data": {
      "text/plain": [
       "array([49.74410874])"
      ]
     },
     "execution_count": 12,
     "metadata": {},
     "output_type": "execute_result"
    }
   ],
   "source": [
    "model.predict([[8, 7.811]]) "
   ]
  }
 ],
 "metadata": {
  "kernelspec": {
   "display_name": "Python 3 (ipykernel)",
   "language": "python",
   "name": "python3"
  },
  "language_info": {
   "codemirror_mode": {
    "name": "ipython",
    "version": 3
   },
   "file_extension": ".py",
   "mimetype": "text/x-python",
   "name": "python",
   "nbconvert_exporter": "python",
   "pygments_lexer": "ipython3",
   "version": "3.9.7"
  }
 },
 "nbformat": 4,
 "nbformat_minor": 5
}
